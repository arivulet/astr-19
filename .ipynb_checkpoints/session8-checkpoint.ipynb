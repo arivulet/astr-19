{
 "cells": [
  {
   "cell_type": "markdown",
   "id": "aef14c4f",
   "metadata": {},
   "source": [
    "# Import numpy matplotlib and math\n"
   ]
  },
  {
   "cell_type": "code",
   "execution_count": 15,
   "id": "f6cafda8",
   "metadata": {},
   "outputs": [],
   "source": [
    "import numpy as np\n",
    "import matplotlib.pyplot as plt\n",
    "import math\n",
    "\n",
    "%matplotlib inline"
   ]
  },
  {
   "cell_type": "markdown",
   "id": "bf26c4c3",
   "metadata": {},
   "source": [
    "Create array with x 100 steps between 0,1"
   ]
  },
  {
   "cell_type": "code",
   "execution_count": 16,
   "id": "e7168031",
   "metadata": {},
   "outputs": [],
   "source": [
    "n = 100\n",
    "\n",
    "x = np.linspace(0,1,n)"
   ]
  },
  {
   "cell_type": "markdown",
   "id": "3756c78a",
   "metadata": {},
   "source": [
    "Sin and Cos functions\n"
   ]
  },
  {
   "cell_type": "code",
   "execution_count": 20,
   "id": "85a5b5b2",
   "metadata": {},
   "outputs": [],
   "source": [
    "def sin_x(x):\n",
    "    return math.sin(x)\n",
    "\n",
    "def cos_x(x):\n",
    "    return math.cos(x)"
   ]
  },
  {
   "cell_type": "code",
   "execution_count": 6,
   "id": "7d039ffc",
   "metadata": {},
   "outputs": [],
   "source": [
    "def main():\n",
    "\n",
    "    #declare we want a fig with 2 horizontal subplots\n",
    "    fig, (ax1, ax2) = plt.subplots(1, 2)\n",
    "    \n",
    "    #give each subplot our values\n",
    "    ax1.plot(sin_x(x), x)\n",
    "    ax1.set_xlabel('sin(x)')\n",
    "    ax2.plot(cos_x(x), x)\n",
    "    ax2.set_xlabel('cos(x)')\n",
    "\n",
    "\n",
    "    #plot and show\n",
    "    plt.savefig('2buddies_plot.pdf', format='pdf', bbox_inches='tight')\n",
    "\n",
    "    plt.show()\n",
    "\n",
    "if __name__==\"main\":\n",
    "    main()"
   ]
  }
 ],
 "metadata": {
  "kernelspec": {
   "display_name": "Python 3",
   "language": "python",
   "name": "python3"
  },
  "language_info": {
   "codemirror_mode": {
    "name": "ipython",
    "version": 3
   },
   "file_extension": ".py",
   "mimetype": "text/x-python",
   "name": "python",
   "nbconvert_exporter": "python",
   "pygments_lexer": "ipython3",
   "version": "3.13.3"
  }
 },
 "nbformat": 4,
 "nbformat_minor": 5
}
