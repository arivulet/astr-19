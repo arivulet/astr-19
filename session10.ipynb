{
 "cells": [
  {
   "cell_type": "markdown",
   "id": "1dea8acb",
   "metadata": {},
   "source": [
    "# Import matplotlib, numpy, math\n"
   ]
  },
  {
   "cell_type": "code",
   "execution_count": 1,
   "id": "e18941f6",
   "metadata": {},
   "outputs": [],
   "source": [
    "import matplotlib.pyplot as plt\n",
    "import numpy as np\n",
    "import math\n",
    "\n",
    "%matplotlib inline"
   ]
  },
  {
   "cell_type": "code",
   "execution_count": null,
   "id": "930df17a",
   "metadata": {},
   "outputs": [],
   "source": [
    "# num samples\n",
    "n = 1000\n",
    "\n",
    "# make random distribution with weibull, exponential distribution with 1 in the parameters\n",
    "x = np.random.weibull(1, n)\n",
    "\n",
    "# make a plot\n",
    "fig, ax = plt.subplots(figsize=(10, 6))\n",
    "\n",
    "width = 0.1\n",
    "histmin = 0\n",
    "histmax = 1\n",
    "\n",
    "\n",
    "\n",
    "def main():\n",
    "    bins = np.arange(histmin, histmax, width)\n",
    "    plt.xlabel('Randomness')\n",
    "    plt.ylabel('Values per Bin')\n",
    "    plt.title('Histogram of 1000 random weibull numbers')\n",
    "    ax.grid(True)\n",
    "    plt.hist(x,bins=bins, alpha = 0.7, edgecolor='blue')\n",
    "\n",
    "    plt.savefig('weibull_histogram.pdf', bbox_inches = \"tight\" , dpi=300)\n",
    "\n",
    "    plt.show()\n",
    "\n",
    "if __name__==\"__main__\":\n",
    "    main()\n"
   ]
  }
 ],
 "metadata": {
  "kernelspec": {
   "display_name": "Python 3",
   "language": "python",
   "name": "python3"
  },
  "language_info": {
   "codemirror_mode": {
    "name": "ipython",
    "version": 3
   },
   "file_extension": ".py",
   "mimetype": "text/x-python",
   "name": "python",
   "nbconvert_exporter": "python",
   "pygments_lexer": "ipython3",
   "version": "3.13.3"
  }
 },
 "nbformat": 4,
 "nbformat_minor": 5
}
