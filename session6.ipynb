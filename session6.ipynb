{
 "cells": [
  {
   "cell_type": "markdown",
   "id": "dc60e72e",
   "metadata": {},
   "source": [
    "# Import Math\n",
    "We import math to give us access to the sin and cos functions"
   ]
  },
  {
   "cell_type": "code",
   "execution_count": null,
   "id": "ef4bb663",
   "metadata": {},
   "outputs": [],
   "source": [
    "import math"
   ]
  },
  {
   "cell_type": "markdown",
   "id": "adab5d53",
   "metadata": {},
   "source": [
    "# Initalize our sin(x) and cos(x) functions\n",
    "We initalize them with their own names so we can call them seperately"
   ]
  },
  {
   "cell_type": "code",
   "execution_count": null,
   "id": "1897ec9c",
   "metadata": {},
   "outputs": [],
   "source": [
    "def sin_x():\n",
    "    return math.sin(x)"
   ]
  },
  {
   "cell_type": "code",
   "execution_count": null,
   "id": "5629b275",
   "metadata": {},
   "outputs": [],
   "source": [
    "def cos_x():\n",
    "    return math.cos(x)"
   ]
  },
  {
   "cell_type": "markdown",
   "id": "dac49e55",
   "metadata": {},
   "source": [
    "# Tabulate sin(x) and cos(x)\n",
    "We use our functions to calculate 1000 entries, using tables to store the information of our values so they can be called again later. We use the math pi to help"
   ]
  },
  {
   "cell_type": "code",
   "execution_count": null,
   "id": "9d297c21",
   "metadata": {},
   "outputs": [],
   "source": [
    "entries =  1000\n",
    "  \n",
    "beg = 0\n",
    "end = 2 * math.pi\n",
    "\n",
    "inc = (end - beg) / (entries - 1)\n",
    "\n",
    "xresults = []\n",
    "sinresults = []\n",
    "cosresults = []\n",
    "\n",
    "\n",
    "for i in range(entries):\n",
    "    x = beg + i * inc\n",
    "    xresults.append(x)\n",
    "    sinresults.append(sin_x(x))\n",
    "    cosresults.append(cos_x(x))"
   ]
  },
  {
   "cell_type": "markdown",
   "id": "61b45261",
   "metadata": {},
   "source": [
    "# Print 10 Values\n",
    "We use the first 10 entries of each table above to print columns containing their information."
   ]
  },
  {
   "cell_type": "code",
   "execution_count": null,
   "id": "48ce544e",
   "metadata": {},
   "outputs": [],
   "source": [
    "print(\"   x    sin(x)    cos(x)\")\n",
    "print(\"-\" * 22)\n",
    "for i in range(10):\n",
    "    print(f\"{xresults[i]}     {sinresults[i]}     {cosresults[i]}\")"
   ]
  }
 ],
 "metadata": {
  "language_info": {
   "name": "python"
  }
 },
 "nbformat": 4,
 "nbformat_minor": 5
}
